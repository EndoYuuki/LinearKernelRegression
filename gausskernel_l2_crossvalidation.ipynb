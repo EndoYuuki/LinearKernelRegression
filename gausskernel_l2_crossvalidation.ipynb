{
 "cells": [
  {
   "cell_type": "code",
   "execution_count": null,
   "metadata": {},
   "outputs": [],
   "source": [
    "import numpy as np\n",
    "import matplotlib.pyplot as plt\n",
    "import model as mdl\n",
    "import kernel as knl\n",
    "import valid as vld"
   ]
  },
  {
   "cell_type": "code",
   "execution_count": null,
   "metadata": {},
   "outputs": [],
   "source": [
    "# dataset\n",
    "n = 50\n",
    "x = np.linspace(-3,3,n)\n",
    "y_true = np.sin(np.pi*x)/(np.pi*x) + 0.1 * x\n",
    "y = y_true + 0.2 * np.random.randn(n)"
   ]
  },
  {
   "cell_type": "code",
   "execution_count": null,
   "metadata": {},
   "outputs": [],
   "source": [
    "# test\n",
    "model = mdl.L2LinearKernelModel(knl.GaussKernel())\n",
    "model.train(x,y)\n",
    "plt.plot(x,y, 'o')\n",
    "plt.plot(x,y_true)\n",
    "plt.plot(x,model(x))\n",
    "plt.show()"
   ]
  },
  {
   "cell_type": "code",
   "execution_count": null,
   "metadata": {},
   "outputs": [],
   "source": [
    "model = mdl.L2LinearKernelModel(knl.GaussKernel())\n",
    "\n",
    "# some settings\n",
    "k = 10 # cross valid params (run k-crossvalid)\n",
    "\n",
    "# parameter candidates\n",
    "h_list = [0.1, 1.0, 10.0]\n",
    "l_list = [0.0001, 0.001, 0.01, 0.1]\n",
    "\n",
    "# plot\n",
    "fig,axes = plt.subplots(nrows=len(l_list),ncols=len(h_list),figsize=(15,12),sharex=True)\n",
    "fig.subplots_adjust(wspace=0.4, hspace=0.6)\n",
    "\n",
    "# for all candidates\n",
    "for i,l in enumerate(l_list):\n",
    "    for j,h in enumerate(h_list):\n",
    "        model.setCriteriaParams(l)\n",
    "        model.setKernelParams(h)\n",
    "        loss = vld.cross_validation(x,y,n/k,model)\n",
    "        \n",
    "        # draw\n",
    "        axes[i,j].plot(x, y, 'o', linewidth=2, label=\"data\")\n",
    "        axes[i,j].plot(x, y_true, linewidth=2, label=\"ground truth\")\n",
    "        axes[i,j].plot(x, model(x), linewidth=2, label=\"estimate\")\n",
    "        axes[i,j].legend()\n",
    "        axes[i,j].set_title(\"l=\"+str(l)+\",h=\"+str(h)+\",err=\"+(\"%4f\" % loss))\n",
    "        axes[i,j].grid(True)\n"
   ]
  },
  {
   "cell_type": "code",
   "execution_count": null,
   "metadata": {},
   "outputs": [],
   "source": []
  }
 ],
 "metadata": {
  "kernelspec": {
   "display_name": "Python 3",
   "language": "python",
   "name": "python3"
  },
  "language_info": {
   "codemirror_mode": {
    "name": "ipython",
    "version": 3
   },
   "file_extension": ".py",
   "mimetype": "text/x-python",
   "name": "python",
   "nbconvert_exporter": "python",
   "pygments_lexer": "ipython3",
   "version": "3.6.5"
  }
 },
 "nbformat": 4,
 "nbformat_minor": 2
}
